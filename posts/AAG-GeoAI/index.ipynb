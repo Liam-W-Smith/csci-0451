{
 "cells": [
  {
   "cell_type": "raw",
   "metadata": {
    "vscode": {
     "languageId": "raw"
    }
   },
   "source": [
    "---\n",
    "title: GeoAI at the American Association of Geographers' 2024 Annual Meeting\n",
    "author: Liam Smith\n",
    "date: '2024-04-18'\n",
    "image: \"hawaii.jpg\"\n",
    "description: \"Learning about the theory, implementation, and applications of machine learning and deep learning.\"\n",
    "format: html\n",
    "---"
   ]
  },
  {
   "cell_type": "markdown",
   "metadata": {},
   "source": [
    "## Introduction\n",
    "\n",
    "This week I'm writing from Honolulu, Hawaii, where I am presenting my summer research at the American Association of Geographers' Annual Meeting.\n",
    "This is the first academic conference I have attended, and I am excited to present my work as well as connect with others in the field and learn from their work.\n",
    "I'm particularly interested in the applications of machine learning towards remote sensing, so I am making an effort to attend presentations and workshops on the topic.\n",
    "\n",
    "## Presentations\n",
    "\n",
    "On Wednesday, April 17, I attended a session on GeoAI for Feature Detection and Recognition.\n",
    "\n",
    "**Context-Enhanced Small Object Detection through High-Resolution Remote Sensing Imagery**\n",
    "- Goal: detect cars on roads\n",
    "- Process:\n",
    "- Segmented roads\n",
    "- Looked for cars on the roads\n",
    "- Developed a new algorithm\n",
    "- Compared her algorithm to preexisting ones \n",
    "\n",
    "**Classification of USGS 3DEP LiDAR Point Clouds Using Deep Learning Models**\n",
    "- Goal: improve classification of USGS point clouds into different objects such as vegetation, water, and buildings\n",
    "- Goal 2: develop an open-source tool that others can use to do the same\n",
    "- Has achieved partial success but needs further work in order to better identify water and bridge featuers\n",
    "\n",
    "**Examining Machine and Deep Learning Techniques to Predict Almond Crop Locations in Central Valley California Using Remote Sensing Technologies**\n",
    "- Goal: identify almond agriculture in Central Valley California\n",
    "- Basically he fit a bunch of traditional machine learning models as well as a bunch of deep learning models and compared their results\n",
    "- Overall, all of the algorithms performed with at least 90% accuracy, so he spoke about how it might be better to go with a simpler model like linear regression or random forest even though some of the deep learning models performed a few percent better\n",
    "\n",
    "**From Grapes to Pixels: Advanced Deep Learning Techniques in Stellenbosch Vineyard Management**\n",
    "- This project was honestly very similar to the almond crop prediction project\n",
    "- The author of both of these studies are PhD students at the University of Florida\n",
    "- This project's goal was to detect certain types of vineyards in Stellenbosch, South Africa\n",
    "- He fit a wide range of models and assessed their performance with several different metrics, discussing which one might be the best one for th etask\n",
    "\n",
    "**Overall reflections**\n",
    "- I found it interesting learning how different models performed in different situations, but to be honest, it sort of felt like less of a science. When you take a bunch of data and throw 15 models at it, without some discussion of the theory of why one model might do better than the others, it sort of feels less like scientific inquiry and more like an art of matching the right algorithm to the given situation.\n",
    "- I also think that none of the presenters communicated why their work was relevant or important. As a member of the audience, it sort of felt like they were just fitting machine learning or deep learning algorithms on seemingly random datasets or maybe they just chose their datasets because the data was easily accessible. I'm more interested in how these tools can be used to solve tangible and meaningful problems. Perhaps some or all of these presentations do have legitimate applications that matter, but the presenters did not make that clear. I also think the presentations would have been more engaging had that been included.\n",
    "\n",
    "\n",
    "## Workshop\n",
    "\n",
    "- powerpoint, link to it\n",
    "\n",
    "- mention tutorials, link to their github: https://github.com/bparment1/deep_learning_with_satellite_imagery_and_geospatial_data?tab=readme-ov-file\n",
    "\n",
    "## Small Example\n",
    "\n",
    "## ALSO:\n",
    "\n",
    "- Phil's thoughts:\n",
    "pretty interesting! An ideal blog post would both reflect on your experience and do some follow-up. For example, did any of the presenters talk about papers which are published? You could pick some of those to read and then do some technical description of the data sets, models, and algorithms involved."
   ]
  },
  {
   "cell_type": "code",
   "execution_count": null,
   "metadata": {},
   "outputs": [],
   "source": []
  }
 ],
 "metadata": {
  "kernelspec": {
   "display_name": "ml-0451",
   "language": "python",
   "name": "python3"
  },
  "language_info": {
   "codemirror_mode": {
    "name": "ipython",
    "version": 3
   },
   "file_extension": ".py",
   "mimetype": "text/x-python",
   "name": "python",
   "nbconvert_exporter": "python",
   "pygments_lexer": "ipython3",
   "version": "3.9.18"
  }
 },
 "nbformat": 4,
 "nbformat_minor": 4
}
